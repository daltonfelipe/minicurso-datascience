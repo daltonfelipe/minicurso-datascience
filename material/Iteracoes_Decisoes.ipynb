{
 "cells": [
  {
   "cell_type": "markdown",
   "metadata": {},
   "source": [
    "## For \n",
    "### A função for é utilizada para iteração de elementos de uma sequência."
   ]
  },
  {
   "cell_type": "code",
   "execution_count": 1,
   "metadata": {},
   "outputs": [
    {
     "name": "stdout",
     "output_type": "stream",
     "text": [
      "1\n",
      "2\n",
      "3\n",
      "4\n"
     ]
    }
   ],
   "source": [
    "lista = [1,2,3,4]\n",
    "for x in lista:\n",
    "    print(x)"
   ]
  },
  {
   "cell_type": "markdown",
   "metadata": {},
   "source": [
    "## While\n",
    "### A função while (enquanto) é utilizada para repetir um comando enquanto a expressão for verdadeira.\n",
    "<code>\n",
    "#Sintaxe do comando while\n",
    "while condicao:\n",
    "    comando1\n",
    "    comando2\n",
    "</code>"
   ]
  },
  {
   "cell_type": "code",
   "execution_count": 2,
   "metadata": {},
   "outputs": [
    {
     "name": "stdout",
     "output_type": "stream",
     "text": [
      "1\n",
      "2\n",
      "3\n",
      "4\n"
     ]
    }
   ],
   "source": [
    "#Exemplo\n",
    "i = 1\n",
    "while i in range(5):\n",
    "    print(i)\n",
    "    i+=1"
   ]
  },
  {
   "cell_type": "markdown",
   "metadata": {},
   "source": [
    "## Exercícios\n",
    "### Calcule o fatorial de um número inteiro. \n",
    "### Faça um programa que leia um nome de usuário e uma senha. A senha não pode ser igual ao nome de usuário, print erro caso isso aconteça e volte a pedir as informações."
   ]
  },
  {
   "cell_type": "markdown",
   "metadata": {},
   "source": [
    "##  If \n",
    "### A função if (se) é utilizada para executar condições."
   ]
  },
  {
   "cell_type": "code",
   "execution_count": 4,
   "metadata": {},
   "outputs": [
    {
     "name": "stdout",
     "output_type": "stream",
     "text": [
      "Meu nome é yasmin\n"
     ]
    }
   ],
   "source": [
    "x = True\n",
    "if x == True:\n",
    "    print(\"Meu nome é yasmin\")\n",
    "elif x == False:\n",
    "    print(\"hello\")\n",
    "else:\n",
    "    print(\"hey\")"
   ]
  },
  {
   "cell_type": "markdown",
   "metadata": {},
   "source": [
    "### Faça um programa que receba tres notas de um aluno, calcule a média e afirme se está aprovado se for maior ou igual a 6 ou se precisa de substitutiva se for menor que 6. Se a nota for 10 printar excelente.\n",
    "\n",
    "### Verifique se uma letra digitada é vogal ou consoante. "
   ]
  },
  {
   "cell_type": "code",
   "execution_count": null,
   "metadata": {},
   "outputs": [],
   "source": []
  }
 ],
 "metadata": {
  "kernelspec": {
   "display_name": "Python 3",
   "language": "python",
   "name": "python3"
  },
  "language_info": {
   "codemirror_mode": {
    "name": "ipython",
    "version": 3
   },
   "file_extension": ".py",
   "mimetype": "text/x-python",
   "name": "python",
   "nbconvert_exporter": "python",
   "pygments_lexer": "ipython3",
   "version": "3.6.6"
  }
 },
 "nbformat": 4,
 "nbformat_minor": 2
}
