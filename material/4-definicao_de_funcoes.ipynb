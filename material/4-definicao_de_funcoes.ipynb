{
 "cells": [
  {
   "cell_type": "markdown",
   "metadata": {},
   "source": [
    "# Definição de funções\n",
    "\n",
    "`def f(x):      \n",
    "    return x**2`\n",
    "    \n",
    "### Permite a criação de blocos de código que podem ser reusados com o comando `def`.\n"
   ]
  },
  {
   "cell_type": "code",
   "execution_count": null,
   "metadata": {},
   "outputs": [],
   "source": []
  },
  {
   "cell_type": "markdown",
   "metadata": {},
   "source": [
    "## Estrutura básica de uma função\n",
    "\n",
    "`\n",
    "\"def\" nome_da_funcao \"(\" lista de parametros \")\" \":\"\n",
    "    retorno da funcao\n",
    "`"
   ]
  },
  {
   "cell_type": "code",
   "execution_count": 25,
   "metadata": {},
   "outputs": [],
   "source": [
    "# definição de uma função\n",
    "def soma_dois_numeros(num1, num2):\n",
    "    print(num1 + num2)"
   ]
  },
  {
   "cell_type": "code",
   "execution_count": 31,
   "metadata": {},
   "outputs": [
    {
     "name": "stdout",
     "output_type": "stream",
     "text": [
      "3\n"
     ]
    }
   ],
   "source": [
    "soma_dois_numeros(1,2)"
   ]
  },
  {
   "cell_type": "code",
   "execution_count": 38,
   "metadata": {},
   "outputs": [],
   "source": [
    "# retorno da funcao\n",
    "# retorna o valor da soma\n",
    "def soma_dois_numeros1(num1, num2):\n",
    "    return num1 + num2"
   ]
  },
  {
   "cell_type": "code",
   "execution_count": 40,
   "metadata": {},
   "outputs": [],
   "source": [
    "soma_1_e_2 = soma_dois_numeros1(1, 2)"
   ]
  },
  {
   "cell_type": "code",
   "execution_count": 41,
   "metadata": {},
   "outputs": [
    {
     "name": "stdout",
     "output_type": "stream",
     "text": [
      "3\n"
     ]
    }
   ],
   "source": [
    "print(soma_1_e_2)"
   ]
  },
  {
   "cell_type": "code",
   "execution_count": 42,
   "metadata": {},
   "outputs": [],
   "source": [
    "# multiplos argumentos\n",
    "def soma_quaisquer_numeros(*args):\n",
    "    print(sum(args))"
   ]
  },
  {
   "cell_type": "code",
   "execution_count": 65,
   "metadata": {},
   "outputs": [
    {
     "name": "stdout",
     "output_type": "stream",
     "text": [
      "6\n"
     ]
    }
   ],
   "source": [
    "soma_quaisquer_numeros(1, 2, 3)"
   ]
  },
  {
   "cell_type": "markdown",
   "metadata": {},
   "source": [
    "# Exercícios"
   ]
  },
  {
   "cell_type": "markdown",
   "metadata": {},
   "source": [
    " 1. defina uma função que recebe dois parâmetros e retorna o maior\n",
    " 2. defina uma função que recebe um nome de arquivo e uma extensao verifica se é verdadeiro\n",
    " 2. defina uma função que recebe um número n e cacula o somatório de 0 a n \n",
    " 3. defina uma função que calcula o fatorial de um número"
   ]
  },
  {
   "cell_type": "code",
   "execution_count": 4,
   "metadata": {},
   "outputs": [],
   "source": [
    "# exercicio 1\n",
    "def maior(n1, n2):\n",
    "    if n1 > n2:\n",
    "        return n1\n",
    "    return n2"
   ]
  },
  {
   "cell_type": "code",
   "execution_count": 3,
   "metadata": {},
   "outputs": [
    {
     "data": {
      "text/plain": [
       "10"
      ]
     },
     "execution_count": 3,
     "metadata": {},
     "output_type": "execute_result"
    }
   ],
   "source": [
    "maior(10, 4)"
   ]
  },
  {
   "cell_type": "code",
   "execution_count": 39,
   "metadata": {},
   "outputs": [],
   "source": [
    "# exercicio 2\n",
    "def verifica(arquivo, tipo):\n",
    "    if arquivo.endswith(tipo):\n",
    "        return True\n",
    "    return False\n",
    "    "
   ]
  },
  {
   "cell_type": "code",
   "execution_count": 43,
   "metadata": {},
   "outputs": [
    {
     "data": {
      "text/plain": [
       "True"
      ]
     },
     "execution_count": 43,
     "metadata": {},
     "output_type": "execute_result"
    }
   ],
   "source": [
    "verifica(\"the_trooper.mp3\", \".mp3\")"
   ]
  },
  {
   "cell_type": "code",
   "execution_count": 45,
   "metadata": {},
   "outputs": [],
   "source": [
    "# exercicio 3\n",
    "def soma_n(n):\n",
    "    if n == 0:\n",
    "        return 0\n",
    "    return soma_n(n-1) + n"
   ]
  },
  {
   "cell_type": "code",
   "execution_count": 46,
   "metadata": {},
   "outputs": [
    {
     "data": {
      "text/plain": [
       "10"
      ]
     },
     "execution_count": 46,
     "metadata": {},
     "output_type": "execute_result"
    }
   ],
   "source": [
    "soma_n(4)"
   ]
  },
  {
   "cell_type": "code",
   "execution_count": 55,
   "metadata": {},
   "outputs": [],
   "source": [
    "# exercicio 4\n",
    "def fatorial(num):\n",
    "    \"\"\"Calcula o fatorial de 'num'\"\"\"\n",
    "    if num <= 0:\n",
    "        return 1\n",
    "    return num*fatorial(num - 1)"
   ]
  },
  {
   "cell_type": "code",
   "execution_count": 57,
   "metadata": {},
   "outputs": [
    {
     "data": {
      "text/plain": [
       "24"
      ]
     },
     "execution_count": 57,
     "metadata": {},
     "output_type": "execute_result"
    }
   ],
   "source": [
    "fatorial(4)"
   ]
  },
  {
   "cell_type": "code",
   "execution_count": 149,
   "metadata": {},
   "outputs": [],
   "source": [
    "fatorial(3)"
   ]
  },
  {
   "cell_type": "markdown",
   "metadata": {},
   "source": [
    "# Manipulação de arquivos com a função `open`"
   ]
  },
  {
   "cell_type": "code",
   "execution_count": 13,
   "metadata": {},
   "outputs": [
    {
     "data": {
      "text/plain": [
       "27"
      ]
     },
     "execution_count": 13,
     "metadata": {},
     "output_type": "execute_result"
    }
   ],
   "source": [
    "# abre o arquivo \"eleicoes.csv\" se nao existir é criado\n",
    "import random\n",
    "file = open(\"eleicoes.csv\",\"a\")\n",
    "file.write(\"candidato, partido, numero\\n\")"
   ]
  },
  {
   "cell_type": "code",
   "execution_count": 14,
   "metadata": {},
   "outputs": [],
   "source": [
    "candidatos = [\"vader\", \"yoda\", \"chuck_norris\", \"goku\", \"nulo\"]\n",
    "numeros = [66, 8, 99, 37, 0]\n",
    "partidos = [\"lado negro da forca\", \"partido do jedi\", \"lobo solitario\", \"partido do sayajin\", \"nenhum\"]\n",
    "\n",
    "# escreve em 250 linhas os dados escolhidos aleatoriamente\n",
    "for i in range(250):\n",
    "    voto = random.randint(0, 4)\n",
    "    file.write(\"{}, {}, {}\\n\".format(\n",
    "        candidatos[voto],\n",
    "        partidos[voto],\n",
    "        numeros[voto]\n",
    "        )\n",
    "    )"
   ]
  },
  {
   "cell_type": "code",
   "execution_count": 13,
   "metadata": {},
   "outputs": [],
   "source": [
    "file.close()"
   ]
  },
  {
   "cell_type": "code",
   "execution_count": 14,
   "metadata": {},
   "outputs": [],
   "source": [
    "# abre o arquivo em modo leitura\n",
    "file = open(\"eleicoes.csv\",\"r\")"
   ]
  },
  {
   "cell_type": "code",
   "execution_count": 10,
   "metadata": {},
   "outputs": [],
   "source": [
    "# le os dados e salva em um arquivo\n",
    "dados_novos = []\n",
    "# faz a leitura de cada linha\n",
    "dados = file.readlines()\n",
    "for linha in dados:\n",
    "    linha = linha.strip()\n",
    "    dados_novos.append(linha.split(\",\"))"
   ]
  },
  {
   "cell_type": "code",
   "execution_count": 11,
   "metadata": {},
   "outputs": [
    {
     "data": {
      "text/plain": [
       "[['candidato', ' partido', ' numero'],\n",
       " ['goku', ' partido do sayajin', ' 37'],\n",
       " ['chuck_norris', ' lobo solitario', ' 99'],\n",
       " ['chuck_norris', ' lobo solitario', ' 99'],\n",
       " ['chuck_norris', ' lobo solitario', ' 99'],\n",
       " ['vader', ' lado negro da forca', ' 66'],\n",
       " ['nulo', ' nenhum', ' 0'],\n",
       " ['goku', ' partido do sayajin', ' 37'],\n",
       " ['vader', ' lado negro da forca', ' 66'],\n",
       " ['chuck_norris', ' lobo solitario', ' 99']]"
      ]
     },
     "execution_count": 11,
     "metadata": {},
     "output_type": "execute_result"
    }
   ],
   "source": [
    "dados_novos[:10]"
   ]
  },
  {
   "cell_type": "code",
   "execution_count": 12,
   "metadata": {},
   "outputs": [
    {
     "data": {
      "text/plain": [
       "['candidato', ' partido', ' numero']"
      ]
     },
     "execution_count": 12,
     "metadata": {},
     "output_type": "execute_result"
    }
   ],
   "source": [
    "dados_novos[0]"
   ]
  },
  {
   "cell_type": "code",
   "execution_count": 15,
   "metadata": {},
   "outputs": [],
   "source": [
    "# le os dados e salva em uma variavel\n",
    "dados = file.readlines()\n",
    "dados_novos1 = [linha.strip().split(\",\") for linha in dados if \"candidato\" not in linha]"
   ]
  },
  {
   "cell_type": "code",
   "execution_count": 16,
   "metadata": {},
   "outputs": [
    {
     "data": {
      "text/plain": [
       "[['goku', ' partido do sayajin', ' 37'],\n",
       " ['chuck_norris', ' lobo solitario', ' 99'],\n",
       " ['chuck_norris', ' lobo solitario', ' 99'],\n",
       " ['chuck_norris', ' lobo solitario', ' 99'],\n",
       " ['vader', ' lado negro da forca', ' 66'],\n",
       " ['nulo', ' nenhum', ' 0'],\n",
       " ['goku', ' partido do sayajin', ' 37'],\n",
       " ['vader', ' lado negro da forca', ' 66'],\n",
       " ['chuck_norris', ' lobo solitario', ' 99'],\n",
       " ['goku', ' partido do sayajin', ' 37']]"
      ]
     },
     "execution_count": 16,
     "metadata": {},
     "output_type": "execute_result"
    }
   ],
   "source": [
    "dados_novos1[:10]"
   ]
  },
  {
   "cell_type": "code",
   "execution_count": null,
   "metadata": {},
   "outputs": [],
   "source": []
  }
 ],
 "metadata": {
  "kernelspec": {
   "display_name": "Python 3",
   "language": "python",
   "name": "python3"
  },
  "language_info": {
   "codemirror_mode": {
    "name": "ipython",
    "version": 3
   },
   "file_extension": ".py",
   "mimetype": "text/x-python",
   "name": "python",
   "nbconvert_exporter": "python",
   "pygments_lexer": "ipython3",
   "version": "3.6.6"
  }
 },
 "nbformat": 4,
 "nbformat_minor": 2
}
