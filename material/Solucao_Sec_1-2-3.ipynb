{
 "cells": [
  {
   "cell_type": "code",
   "execution_count": 8,
   "metadata": {},
   "outputs": [
    {
     "name": "stdout",
     "output_type": "stream",
     "text": [
      "nome: yasmin\n",
      "NIMSAY\n",
      "Morango\n",
      "Melancia\n",
      "Mamao\n",
      "nome: yasmin\n",
      "senha: yasmin\n",
      "Error. Digite uma senha diferente do seu nome\n",
      "senha: yasmin\n",
      "Error. Digite uma senha diferente do seu nome\n",
      "senha: yasjfj\n"
     ]
    }
   ],
   "source": [
    "# Exercicio manipulacao de strings\n",
    "nome = input('nome: ')\n",
    "invertido = nome[::-1]\n",
    "print(invertido.upper())\n",
    "\n",
    "\n",
    "\n",
    "        \n",
    "\n",
    "    \n",
    "\n"
   ]
  },
  {
   "cell_type": "code",
   "execution_count": null,
   "metadata": {},
   "outputs": [],
   "source": [
    "#Exercicio For\n",
    "lista2 = ['Morango','Melancia','Uva','Pera','Mamao']\n",
    "for j in lista2:\n",
    "    if j[0]==\"M\":\n",
    "        print(j)"
   ]
  },
  {
   "cell_type": "code",
   "execution_count": null,
   "metadata": {},
   "outputs": [],
   "source": [
    "#Exercicio while\n",
    "nome_user = input('nome: ')\n",
    "senha = input('senha: ')\n",
    "\n",
    "while senha == nome_user:\n",
    "    print('Error. Digite uma senha diferente do seu nome')\n",
    "    senha = input('senha: ')"
   ]
  },
  {
   "cell_type": "code",
   "execution_count": null,
   "metadata": {},
   "outputs": [],
   "source": [
    "#Exercicio if\n"
   ]
  }
 ],
 "metadata": {
  "kernelspec": {
   "display_name": "Python 3",
   "language": "python",
   "name": "python3"
  },
  "language_info": {
   "codemirror_mode": {
    "name": "ipython",
    "version": 3
   },
   "file_extension": ".py",
   "mimetype": "text/x-python",
   "name": "python",
   "nbconvert_exporter": "python",
   "pygments_lexer": "ipython3",
   "version": "3.6.6"
  }
 },
 "nbformat": 4,
 "nbformat_minor": 2
}
