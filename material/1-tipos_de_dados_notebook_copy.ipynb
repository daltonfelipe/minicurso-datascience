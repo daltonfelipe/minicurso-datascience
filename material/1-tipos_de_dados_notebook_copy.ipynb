{
 "cells": [
  {
   "cell_type": "markdown",
   "metadata": {},
   "source": [
    "## Built-in Functions\n",
    "#### Python tem uma série de funções que já estão prontas para serem usadas sem a necessidade do comando import. A função print() é um exemplo muito utilizado de Built-in Functions, ela serve para mostrar o valor de algo na tela. "
   ]
  },
  {
   "cell_type": "code",
   "execution_count": null,
   "metadata": {},
   "outputs": [],
   "source": [
    "# Algumas Built-in Functions em Python\n",
    "# Retorna o valor absoluto de um número\n",
    "abs(-4)\n",
    "\n",
    "#Converte um valor em uma variavel booleana\n",
    "bool()\n",
    "\n",
    "#Converte uma variavel em um numero float\n",
    "float()\n",
    "\n",
    "#Lê e retorna uma linha de string\n",
    "input()\n",
    "\n",
    "#Retorna o maior elemento\n",
    "max()\n",
    "\n",
    "#Retorna o menor elemento\n",
    "min()\n",
    "\n",
    "#Retorna x elevado a y\n",
    "pow()\n",
    "\n",
    "# retorna uma sequencia de inteiros entre um comeco e um fim definidos\n",
    "range()\n",
    "\n",
    "# adiciona os itens de uma iteracao\n",
    "sum()\n"
   ]
  },
  {
   "cell_type": "markdown",
   "metadata": {},
   "source": [
    "# Tipos de dados em Python\n",
    " * strings\n",
    " * inteiros\n",
    " * floats\n",
    " * listas e dicts"
   ]
  },
  {
   "cell_type": "markdown",
   "metadata": {},
   "source": [
    "## Strings\n",
    "* É uma lista de caracteres imutáveis.\n",
    "* Podem ser representados por aspas simples ou aspas duplas\n",
    "* Strings podem ser indexadas, ou seja, com o primeiro caracter com o índice igual a 0. A contagem é positiva quando começa pela esquerda e netativa quando começa pela direita com o primeiro índice igual a -1.\n",
    "* Também é poossivel fatiar strings e obter substrings.\n",
    "* Para saber o tamanho de uma string usa-se o método len(string)."
   ]
  },
  {
   "cell_type": "code",
   "execution_count": 5,
   "metadata": {},
   "outputs": [
    {
     "name": "stdout",
     "output_type": "stream",
     "text": [
      "o\n",
      "alto\n",
      "da\n",
      "pe\n"
     ]
    },
    {
     "data": {
      "text/plain": [
       "7"
      ]
     },
     "execution_count": 5,
     "metadata": {},
     "output_type": "execute_result"
    }
   ],
   "source": [
    "#Exemplo de definicao de Strings \n",
    "nome = \"dalton felipe\"\n",
    "sobrenome = \"silva varão\"\n",
    "disciplina = 'calculo'\n",
    "mes = \"outubro\"\n",
    "\n",
    "#Como indexar strings\n",
    "print(mes[4])\n",
    "print(mes[-1])\n",
    "\n",
    "#Como fatiar strings\n",
    "print(nome[1:5])\n",
    "print(nome[:2])\n",
    "print(nome[-2:])\n",
    "\n",
    "#Como obter o tamanho de strings\n",
    "len(disciplina)"
   ]
  },
  {
   "cell_type": "code",
   "execution_count": null,
   "metadata": {},
   "outputs": [],
   "source": [
    "#Declare uma variável com seu nome\n",
    "\n",
    "#print o tamanho da variável e o terceiro valor da variável\n",
    "\n",
    "#Print os 2 ultimos valores da variável"
   ]
  },
  {
   "cell_type": "markdown",
   "metadata": {},
   "source": [
    "### Manipulando Strings"
   ]
  },
  {
   "cell_type": "code",
   "execution_count": 19,
   "metadata": {},
   "outputs": [
    {
     "name": "stdout",
     "output_type": "stream",
     "text": [
      "37\n",
      "4\n",
      "24\n",
      "['Universidade', 'Federal', 'do', 'Oeste', 'do', 'Para']\n",
      "UNIVERSIDADE FEDERAL DO OESTE DO PARA\n",
      "universidade federal do oeste do para\n",
      "Universidade federal do oeste do para\n",
      "Universidade Federal Do Oeste Do Para\n"
     ]
    }
   ],
   "source": [
    "universidade = \"Universidade Federal do Oeste do Para\"\n",
    "\n",
    "#lê a quantidade de caracteres de uma string\n",
    "print(len(universidade))\n",
    "\n",
    "#conta o numero de vezes em que algum caractere se repete\n",
    "print(universidade.count('a'))\n",
    "\n",
    "#procura a posicao de um determinado caractere na string\n",
    "print(universidade.find('O'))\n",
    "\n",
    "#separa as strings pelos espaços\n",
    "print(universidade.split())\n",
    "\n",
    "#troca as letras minusculas por maiusculas\n",
    "print(universidade.upper())\n",
    "\n",
    "#coloca todas as letras em minusculas\n",
    "print(universidade.lower())\n",
    "\n",
    "#Deixa apenas a primeira letra da string em maiuscula\n",
    "print(universidade.lower().capitalize())\n",
    "\n",
    "#troca as primeiras letras da frase de minuscula para maiuscula\n",
    "print(universidade.title())"
   ]
  },
  {
   "cell_type": "markdown",
   "metadata": {},
   "source": [
    "## Números do tipo Inteiro\n",
    "### Caracteres númericos"
   ]
  },
  {
   "cell_type": "code",
   "execution_count": 5,
   "metadata": {},
   "outputs": [],
   "source": [
    "# Exemplos de variaveis do tipo inteiro\n",
    "idade = 20\n",
    "dia = 11\n",
    "ano = 2018\n",
    "faltas = 3"
   ]
  },
  {
   "cell_type": "markdown",
   "metadata": {},
   "source": [
    "## Números do tipo Float\n",
    "###  São caracteres caracterizados pela existência do ponto decimal. "
   ]
  },
  {
   "cell_type": "code",
   "execution_count": 1,
   "metadata": {},
   "outputs": [],
   "source": [
    "# Exemplos de variaveis do tipo float\n",
    "altura = 1.86\n",
    "saldo = 0.10\n",
    "nota = 9.5"
   ]
  },
  {
   "cell_type": "markdown",
   "metadata": {},
   "source": [
    "## Variáveis Booleanas \n",
    "* True \n",
    "* False\n"
   ]
  },
  {
   "cell_type": "code",
   "execution_count": 1,
   "metadata": {},
   "outputs": [
    {
     "name": "stdout",
     "output_type": "stream",
     "text": [
      "True\n"
     ]
    }
   ],
   "source": [
    "x = True \n",
    "print(x)"
   ]
  },
  {
   "cell_type": "markdown",
   "metadata": {},
   "source": [
    "## Como descobrir o tipo da variável\n",
    "### Para conhecer o tipo da variável utiliza-se a built- in function type(variavel)."
   ]
  },
  {
   "cell_type": "code",
   "execution_count": 2,
   "metadata": {},
   "outputs": [
    {
     "name": "stdout",
     "output_type": "stream",
     "text": [
      "<class 'str'> <class 'int'> <class 'float'> <class 'bool'>\n"
     ]
    }
   ],
   "source": [
    "nome = \"yasmin\"\n",
    "idade = 20\n",
    "altura = 1.58\n",
    "condicao = True\n",
    "\n",
    "# Como saber o tipo da variavel\n",
    "print(type(nome),type(idade),type(altura),type(condicao))"
   ]
  },
  {
   "cell_type": "markdown",
   "metadata": {},
   "source": [
    "## Conversão de Variáveis\n",
    "### Em Python, é possível converter os tipos de variaveis, por exemplo uma variavel do tipo inteiro pode ser transformada em string.\n"
   ]
  },
  {
   "cell_type": "code",
   "execution_count": 6,
   "metadata": {},
   "outputs": [
    {
     "name": "stdout",
     "output_type": "stream",
     "text": [
      "<class 'str'>\n"
     ]
    }
   ],
   "source": [
    "texto = 4\n",
    "# Conversao de variaveis\n",
    "num = str(texto)\n",
    "print(type(num))"
   ]
  },
  {
   "cell_type": "markdown",
   "metadata": {},
   "source": [
    "## Exercícios Variáveis\n",
    "### 1. Faça um programa que leia um número inteiro menor que 1000 e imprima a quantidade de centenas, dezenas e unidades do mesmo. \n",
    "### 2. Faça um programa que leia o nome do usuário e mostre o nome de traz para frente, utilizando somente letras maiúsculas. "
   ]
  },
  {
   "cell_type": "markdown",
   "metadata": {},
   "source": [
    "## Listas\n",
    "### Lista é uma sequência de valores que podem ser identificados por um índice, assim como as strings porém seus valores podem ser alterados."
   ]
  },
  {
   "cell_type": "code",
   "execution_count": 3,
   "metadata": {},
   "outputs": [
    {
     "name": "stdout",
     "output_type": "stream",
     "text": [
      "20\n"
     ]
    }
   ],
   "source": [
    "nomes = [\"felipe\", \"yasmin\", \"dalton\"]\n",
    "idades = [20, 19, 18, 17]\n",
    "notas = [9.95, 8.6, 7.67, 5.51]"
   ]
  },
  {
   "cell_type": "code",
   "execution_count": 51,
   "metadata": {},
   "outputs": [
    {
     "name": "stdout",
     "output_type": "stream",
     "text": [
      "['felipe', 'yasmin', 'dalton', 'dalton']\n"
     ]
    }
   ],
   "source": [
    "# adiciona outro elemento\n",
    "nomes.append(\"dalton\")\n",
    "print(nomes)"
   ]
  },
  {
   "cell_type": "code",
   "execution_count": 40,
   "metadata": {},
   "outputs": [
    {
     "name": "stdout",
     "output_type": "stream",
     "text": [
      "[]\n"
     ]
    }
   ],
   "source": [
    "# limpa a lista\n",
    "nomes.clear()\n",
    "print(nomes)"
   ]
  },
  {
   "cell_type": "code",
   "execution_count": 52,
   "metadata": {},
   "outputs": [
    {
     "name": "stdout",
     "output_type": "stream",
     "text": [
      "['felipe', 'yasmin', 'dalton', 'dalton']\n"
     ]
    }
   ],
   "source": [
    "# faz uma copia dos valores da lista\n",
    "nomes_copia = nomes.copy()\n",
    "print(nomes_copia)"
   ]
  },
  {
   "cell_type": "code",
   "execution_count": 53,
   "metadata": {},
   "outputs": [
    {
     "name": "stdout",
     "output_type": "stream",
     "text": [
      "2\n"
     ]
    }
   ],
   "source": [
    "# conta a quantidade de elementos \"dalton\" na lista \n",
    "contador = nomes.count(\"dalton\")\n",
    "print(contador)"
   ]
  },
  {
   "cell_type": "code",
   "execution_count": 54,
   "metadata": {},
   "outputs": [
    {
     "name": "stdout",
     "output_type": "stream",
     "text": [
      "['felipe', 'yasmin', 'dalton', 'dalton', 'jose', 'joao']\n"
     ]
    }
   ],
   "source": [
    "nomes.extend([\"jose\",\"joao\"])\n",
    "print(nomes)"
   ]
  },
  {
   "cell_type": "code",
   "execution_count": 55,
   "metadata": {},
   "outputs": [
    {
     "data": {
      "text/plain": [
       "0"
      ]
     },
     "execution_count": 55,
     "metadata": {},
     "output_type": "execute_result"
    }
   ],
   "source": [
    "# busca a posicao do elemento\n",
    "nomes.index(\"felipe\")"
   ]
  },
  {
   "cell_type": "code",
   "execution_count": 56,
   "metadata": {},
   "outputs": [
    {
     "name": "stdout",
     "output_type": "stream",
     "text": [
      "['felipe', 'yasmin', 'DALTON', 'dalton', 'dalton', 'jose', 'joao']\n"
     ]
    }
   ],
   "source": [
    "# insere um novo elemento no index 2\n",
    "nomes.insert(2, \"DALTON\")\n",
    "print(nomes)"
   ]
  },
  {
   "cell_type": "code",
   "execution_count": 59,
   "metadata": {},
   "outputs": [
    {
     "name": "stdout",
     "output_type": "stream",
     "text": [
      "['DALTON', 'dalton', 'dalton', 'felipe', 'joao', 'jose', 'yasmin']\n"
     ]
    }
   ],
   "source": [
    "# ordena a lista por ordem alfabetica\n",
    "nomes.sort()\n",
    "print(nomes)"
   ]
  },
  {
   "cell_type": "code",
   "execution_count": 64,
   "metadata": {},
   "outputs": [
    {
     "name": "stdout",
     "output_type": "stream",
     "text": [
      "['yasmin', 'jose', 'joao', 'felipe', 'dalton', 'dalton', 'DALTON']\n"
     ]
    }
   ],
   "source": [
    "nomes.reverse()\n",
    "print(nomes)"
   ]
  },
  {
   "cell_type": "markdown",
   "metadata": {},
   "source": [
    "### list index e slice"
   ]
  },
  {
   "cell_type": "code",
   "execution_count": 97,
   "metadata": {},
   "outputs": [
    {
     "data": {
      "text/plain": [
       "0"
      ]
     },
     "execution_count": 97,
     "metadata": {},
     "output_type": "execute_result"
    }
   ],
   "source": [
    "# a lista comeca a partir do indice 0\n",
    "posicoes = [0, 1, 2, 3, 4, 5, 6, 7]\n",
    "posicoes[0]"
   ]
  },
  {
   "cell_type": "code",
   "execution_count": 87,
   "metadata": {},
   "outputs": [
    {
     "data": {
      "text/plain": [
       "'yasmin'"
      ]
     },
     "execution_count": 87,
     "metadata": {},
     "output_type": "execute_result"
    }
   ],
   "source": [
    "# retorna o primeiro valor'\n",
    "nomes[0]"
   ]
  },
  {
   "cell_type": "code",
   "execution_count": 90,
   "metadata": {},
   "outputs": [
    {
     "data": {
      "text/plain": [
       "['jose', 'joao', 'felipe', 'dalton', 'dalton', 'DALTON']"
      ]
     },
     "execution_count": 90,
     "metadata": {},
     "output_type": "execute_result"
    }
   ],
   "source": [
    "# retorna todos os valores exceto o elemento 0\n",
    "nomes[1:]"
   ]
  },
  {
   "cell_type": "code",
   "execution_count": 91,
   "metadata": {},
   "outputs": [
    {
     "data": {
      "text/plain": [
       "['yasmin', 'jose', 'joao']"
      ]
     },
     "execution_count": 91,
     "metadata": {},
     "output_type": "execute_result"
    }
   ],
   "source": [
    "# retorna todos os valores ate o 3 elemento \n",
    "nomes[:3]"
   ]
  },
  {
   "cell_type": "code",
   "execution_count": 95,
   "metadata": {},
   "outputs": [
    {
     "data": {
      "text/plain": [
       "['jose', 'joao']"
      ]
     },
     "execution_count": 95,
     "metadata": {},
     "output_type": "execute_result"
    }
   ],
   "source": [
    "#retorna os valores entre o primeiro e quarto elemento\n",
    "nomes[1:3]"
   ]
  },
  {
   "cell_type": "markdown",
   "metadata": {},
   "source": [
    "## Linhas Alinhadas\n",
    "### São listas que aparecem dentro de outras listas."
   ]
  },
  {
   "cell_type": "code",
   "execution_count": 13,
   "metadata": {},
   "outputs": [
    {
     "name": "stdout",
     "output_type": "stream",
     "text": [
      "7\n"
     ]
    }
   ],
   "source": [
    "lista = [1,2,3,[7,8]]\n",
    "print(lista[3][0])"
   ]
  },
  {
   "cell_type": "markdown",
   "metadata": {},
   "source": [
    "## Matrizes\n",
    "### Matrizes são listas de elementos em que cada elemento é uma lista que formam as linhas da matriz."
   ]
  },
  {
   "cell_type": "code",
   "execution_count": 16,
   "metadata": {},
   "outputs": [
    {
     "name": "stdout",
     "output_type": "stream",
     "text": [
      "5\n"
     ]
    }
   ],
   "source": [
    "# Exemplo de Matriz\n",
    "matriz = [[1,3,4],[5,8,6],[6,9,8]]\n",
    "\n",
    "# Extração de números da Matriz\n",
    "print(matriz[1][0])"
   ]
  },
  {
   "cell_type": "markdown",
   "metadata": {},
   "source": [
    "## Exercícios Lista\n",
    "### 3.Crie um código que recebe uma lista de números e:\n",
    "* a. retorne o maior elemento\n",
    "* b. retorne a soma dos elementos\n",
    "* c. retorne o número de ocorrências do primeiro elemento da lista\n",
    "* d. retorne a média dos elementos\n",
    "* e. retorne o valor mais próximo da média dos elementos\n",
    "* f. retorne a soma dos elementos com valor negativo\n",
    "* g. retorne a quantidade de vizinhos iguais\n",
    "\n",
    "### 4. Faça um script que receba uma lista e exiba os elementos da última metade na frente dos elementos da primeira metade."
   ]
  },
  {
   "cell_type": "markdown",
   "metadata": {},
   "source": [
    "## Tuplas\n",
    "### Tuplas é um tipo de variavel do Python similar a uma lista, porém sua sequencia é imutavel. "
   ]
  },
  {
   "cell_type": "code",
   "execution_count": 12,
   "metadata": {},
   "outputs": [
    {
     "name": "stdout",
     "output_type": "stream",
     "text": [
      "b\n",
      "('b',)\n",
      "('d', 'a')\n"
     ]
    }
   ],
   "source": [
    "# Podem ser declaradas sem parentese\n",
    "tupla1 = 'a','b','c'\n",
    "\n",
    "# Porem, é convencional o uso dos parenteses\n",
    "tupla2 = ('a','b','c')\n",
    "\n",
    "# Tupla com um único valor\n",
    "tupla3 = ('a',)\n",
    "\n",
    "# Tuplas apresentam  as mesmas operações que as listas\n",
    "print(tupla2[1])\n",
    "\n",
    "print(tupla2[1:2])\n",
    "\n",
    "# Tentativa de modificar um elemento\n",
    "#tupla2[0] = 'd'\n",
    "\n",
    "# Mas pode-se criar uma nova tupla a partir de outra\n",
    "tupla4 = ('d',) + tupla3\n",
    "print(tupla4)"
   ]
  },
  {
   "cell_type": "markdown",
   "metadata": {},
   "source": [
    "## Dicts"
   ]
  },
  {
   "cell_type": "code",
   "execution_count": 17,
   "metadata": {},
   "outputs": [],
   "source": [
    "# cria um dict (dictionarie - dicionario)\n",
    "aluno = {\n",
    "    \"nome\": \"dalton\",\n",
    "     \"idade\": \"calculo\",\n",
    "     \"nota\": \"9.5\",\n",
    "     \"faltas\": \"3\"\n",
    "}"
   ]
  },
  {
   "cell_type": "code",
   "execution_count": 18,
   "metadata": {},
   "outputs": [
    {
     "data": {
      "text/plain": [
       "'dalton'"
      ]
     },
     "execution_count": 18,
     "metadata": {},
     "output_type": "execute_result"
    }
   ],
   "source": [
    "# retorna o valor da key \"nome\"\n",
    "aluno.get(\"nome\")"
   ]
  },
  {
   "cell_type": "code",
   "execution_count": 19,
   "metadata": {},
   "outputs": [
    {
     "data": {
      "text/plain": [
       "'dalton'"
      ]
     },
     "execution_count": 19,
     "metadata": {},
     "output_type": "execute_result"
    }
   ],
   "source": [
    "aluno[\"nome\"]"
   ]
  },
  {
   "cell_type": "code",
   "execution_count": 20,
   "metadata": {},
   "outputs": [
    {
     "name": "stdout",
     "output_type": "stream",
     "text": [
      "None\n"
     ]
    }
   ],
   "source": [
    "# retorna o valor da key \"sobrenome\" se existir retorna None se não\n",
    "aluno_sobrenome = aluno.get(\"sobrenome\")\n",
    "print(aluno_sobrenome)"
   ]
  },
  {
   "cell_type": "code",
   "execution_count": 21,
   "metadata": {},
   "outputs": [
    {
     "ename": "KeyError",
     "evalue": "'sobrenome'",
     "output_type": "error",
     "traceback": [
      "\u001b[0;31m---------------------------------------------------------------------------\u001b[0m",
      "\u001b[0;31mKeyError\u001b[0m                                  Traceback (most recent call last)",
      "\u001b[0;32m<ipython-input-21-cc8b7a6b2790>\u001b[0m in \u001b[0;36m<module>\u001b[0;34m()\u001b[0m\n\u001b[1;32m      1\u001b[0m \u001b[0;31m# retorna o valor da key \"sobrenome\" se existir retorna um Erro se não\u001b[0m\u001b[0;34m\u001b[0m\u001b[0;34m\u001b[0m\u001b[0m\n\u001b[0;32m----> 2\u001b[0;31m \u001b[0maluno_sobrenome\u001b[0m \u001b[0;34m=\u001b[0m \u001b[0maluno\u001b[0m\u001b[0;34m[\u001b[0m\u001b[0;34m\"sobrenome\"\u001b[0m\u001b[0;34m]\u001b[0m\u001b[0;34m\u001b[0m\u001b[0m\n\u001b[0m\u001b[1;32m      3\u001b[0m \u001b[0mprint\u001b[0m\u001b[0;34m(\u001b[0m\u001b[0maluno_sobrenome\u001b[0m\u001b[0;34m)\u001b[0m\u001b[0;34m\u001b[0m\u001b[0m\n",
      "\u001b[0;31mKeyError\u001b[0m: 'sobrenome'"
     ]
    }
   ],
   "source": [
    "# retorna o valor da key \"sobrenome\" se existir retorna um Erro se não\n",
    "aluno_sobrenome = aluno[\"sobrenome\"]\n",
    "print(aluno_sobrenome)"
   ]
  },
  {
   "cell_type": "markdown",
   "metadata": {},
   "source": [
    "## Exercícios Dict"
   ]
  },
  {
   "cell_type": "code",
   "execution_count": null,
   "metadata": {},
   "outputs": [],
   "source": []
  }
 ],
 "metadata": {
  "kernelspec": {
   "display_name": "Python 3",
   "language": "python",
   "name": "python3"
  },
  "language_info": {
   "codemirror_mode": {
    "name": "ipython",
    "version": 3
   },
   "file_extension": ".py",
   "mimetype": "text/x-python",
   "name": "python",
   "nbconvert_exporter": "python",
   "pygments_lexer": "ipython3",
   "version": "3.6.6"
  }
 },
 "nbformat": 4,
 "nbformat_minor": 2
}
