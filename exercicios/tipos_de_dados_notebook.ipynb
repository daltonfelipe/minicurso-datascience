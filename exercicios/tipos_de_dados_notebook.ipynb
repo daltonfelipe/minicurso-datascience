{
 "cells": [
  {
   "cell_type": "markdown",
   "metadata": {},
   "source": [
    "# I - Tipos de dados:\n",
    " * strings\n",
    " * inteiros\n",
    " * floats\n",
    " * listas e dicts"
   ]
  },
  {
   "cell_type": "markdown",
   "metadata": {},
   "source": [
    "## Strings\n",
    "### stdhh s kdvnksdc"
   ]
  },
  {
   "cell_type": "code",
   "execution_count": 4,
   "metadata": {},
   "outputs": [],
   "source": [
    "nome = \"dalton felipe\"\n",
    "sobrenome = \"silva varão\"\n",
    "disciplina = \"calculo\"\n",
    "mes = \"outubro\""
   ]
  },
  {
   "cell_type": "code",
   "execution_count": 6,
   "metadata": {},
   "outputs": [
    {
     "data": {
      "text/plain": [
       "'Dalton felipe'"
      ]
     },
     "execution_count": 6,
     "metadata": {},
     "output_type": "execute_result"
    }
   ],
   "source": [
    "# primeiros caracteres em maiusculo\n",
    "nome.capitalize()"
   ]
  },
  {
   "cell_type": "code",
   "execution_count": 7,
   "metadata": {},
   "outputs": [
    {
     "data": {
      "text/plain": [
       "'dalton felipe'"
      ]
     },
     "execution_count": 7,
     "metadata": {},
     "output_type": "execute_result"
    }
   ],
   "source": [
    "nome.casefold()"
   ]
  },
  {
   "cell_type": "markdown",
   "metadata": {},
   "source": [
    "## Inteiros"
   ]
  },
  {
   "cell_type": "code",
   "execution_count": 5,
   "metadata": {},
   "outputs": [],
   "source": [
    "idade = 20\n",
    "dia = 11\n",
    "ano = 2018\n",
    "faltas = 3"
   ]
  },
  {
   "cell_type": "code",
   "execution_count": null,
   "metadata": {},
   "outputs": [],
   "source": []
  },
  {
   "cell_type": "markdown",
   "metadata": {},
   "source": [
    "## Floats"
   ]
  },
  {
   "cell_type": "code",
   "execution_count": 7,
   "metadata": {},
   "outputs": [],
   "source": [
    "altura = 1.86\n",
    "saldo = 0.10\n",
    "nota = 9.5"
   ]
  },
  {
   "cell_type": "code",
   "execution_count": null,
   "metadata": {},
   "outputs": [],
   "source": []
  },
  {
   "cell_type": "markdown",
   "metadata": {},
   "source": [
    "## Listas"
   ]
  },
  {
   "cell_type": "code",
   "execution_count": 50,
   "metadata": {},
   "outputs": [],
   "source": [
    "# define listas\n",
    "nomes = [\"felipe\", \"yasmin\", \"dalton\"]\n",
    "idades = [20, 19, 18, 17]\n",
    "notas = [9.95, 8.6, 7.67, 5.51]"
   ]
  },
  {
   "cell_type": "code",
   "execution_count": 51,
   "metadata": {},
   "outputs": [
    {
     "name": "stdout",
     "output_type": "stream",
     "text": [
      "['felipe', 'yasmin', 'dalton', 'dalton']\n"
     ]
    }
   ],
   "source": [
    "# adiciona outro elemento\n",
    "nomes.append(\"dalton\")\n",
    "print(nomes)"
   ]
  },
  {
   "cell_type": "code",
   "execution_count": 40,
   "metadata": {},
   "outputs": [
    {
     "name": "stdout",
     "output_type": "stream",
     "text": [
      "[]\n"
     ]
    }
   ],
   "source": [
    "# limpa a lista\n",
    "nomes.clear()\n",
    "print(nomes)"
   ]
  },
  {
   "cell_type": "code",
   "execution_count": 52,
   "metadata": {},
   "outputs": [
    {
     "name": "stdout",
     "output_type": "stream",
     "text": [
      "['felipe', 'yasmin', 'dalton', 'dalton']\n"
     ]
    }
   ],
   "source": [
    "# faz uma copia dos valores da lista\n",
    "nomes_copia = nomes.copy()\n",
    "print(nomes_copia)"
   ]
  },
  {
   "cell_type": "code",
   "execution_count": 53,
   "metadata": {},
   "outputs": [
    {
     "name": "stdout",
     "output_type": "stream",
     "text": [
      "2\n"
     ]
    }
   ],
   "source": [
    "# conta a quantidade de elementos \"dalton\" na lista \n",
    "contador = nomes.count(\"dalton\")\n",
    "print(contador)"
   ]
  },
  {
   "cell_type": "code",
   "execution_count": 54,
   "metadata": {},
   "outputs": [
    {
     "name": "stdout",
     "output_type": "stream",
     "text": [
      "['felipe', 'yasmin', 'dalton', 'dalton', 'jose', 'joao']\n"
     ]
    }
   ],
   "source": [
    "nomes.extend([\"jose\",\"joao\"])\n",
    "print(nomes)"
   ]
  },
  {
   "cell_type": "code",
   "execution_count": 55,
   "metadata": {},
   "outputs": [
    {
     "data": {
      "text/plain": [
       "0"
      ]
     },
     "execution_count": 55,
     "metadata": {},
     "output_type": "execute_result"
    }
   ],
   "source": [
    "# busca a posicao do elemento\n",
    "nomes.index(\"felipe\")"
   ]
  },
  {
   "cell_type": "code",
   "execution_count": 56,
   "metadata": {},
   "outputs": [
    {
     "name": "stdout",
     "output_type": "stream",
     "text": [
      "['felipe', 'yasmin', 'DALTON', 'dalton', 'dalton', 'jose', 'joao']\n"
     ]
    }
   ],
   "source": [
    "# insere um novo elemento no index 2\n",
    "nomes.insert(2, \"DALTON\")\n",
    "print(nomes)"
   ]
  },
  {
   "cell_type": "code",
   "execution_count": 59,
   "metadata": {},
   "outputs": [
    {
     "name": "stdout",
     "output_type": "stream",
     "text": [
      "['DALTON', 'dalton', 'dalton', 'felipe', 'joao', 'jose', 'yasmin']\n"
     ]
    }
   ],
   "source": [
    "# ordena a lista por ordem alfabetica\n",
    "nomes.sort()\n",
    "print(nomes)"
   ]
  },
  {
   "cell_type": "code",
   "execution_count": 64,
   "metadata": {},
   "outputs": [
    {
     "name": "stdout",
     "output_type": "stream",
     "text": [
      "['yasmin', 'jose', 'joao', 'felipe', 'dalton', 'dalton', 'DALTON']\n"
     ]
    }
   ],
   "source": [
    "nomes.reverse()\n",
    "print(nomes)"
   ]
  },
  {
   "cell_type": "markdown",
   "metadata": {},
   "source": [
    "### list index e slice"
   ]
  },
  {
   "cell_type": "code",
   "execution_count": 97,
   "metadata": {},
   "outputs": [
    {
     "data": {
      "text/plain": [
       "0"
      ]
     },
     "execution_count": 97,
     "metadata": {},
     "output_type": "execute_result"
    }
   ],
   "source": [
    "# a lista comeca a partir do indice 0\n",
    "posicoes = [0, 1, 2, 3, 4, 5, 6, 7]\n",
    "posicoes[0]"
   ]
  },
  {
   "cell_type": "code",
   "execution_count": 87,
   "metadata": {},
   "outputs": [
    {
     "data": {
      "text/plain": [
       "'yasmin'"
      ]
     },
     "execution_count": 87,
     "metadata": {},
     "output_type": "execute_result"
    }
   ],
   "source": [
    "# retorna o primeiro valor'\n",
    "nomes[0]"
   ]
  },
  {
   "cell_type": "code",
   "execution_count": 90,
   "metadata": {},
   "outputs": [
    {
     "data": {
      "text/plain": [
       "['jose', 'joao', 'felipe', 'dalton', 'dalton', 'DALTON']"
      ]
     },
     "execution_count": 90,
     "metadata": {},
     "output_type": "execute_result"
    }
   ],
   "source": [
    "# retorna todos os valores exceto o elemento 0\n",
    "nomes[1:]"
   ]
  },
  {
   "cell_type": "code",
   "execution_count": 91,
   "metadata": {},
   "outputs": [
    {
     "data": {
      "text/plain": [
       "['yasmin', 'jose', 'joao']"
      ]
     },
     "execution_count": 91,
     "metadata": {},
     "output_type": "execute_result"
    }
   ],
   "source": [
    "# retorna todos os valores ate o 3 elemento \n",
    "nomes[:3]"
   ]
  },
  {
   "cell_type": "code",
   "execution_count": 95,
   "metadata": {},
   "outputs": [
    {
     "data": {
      "text/plain": [
       "['jose', 'joao']"
      ]
     },
     "execution_count": 95,
     "metadata": {},
     "output_type": "execute_result"
    }
   ],
   "source": [
    "#retorna os valores entre o primeiro e quarto elemento\n",
    "nomes[1:3]"
   ]
  },
  {
   "cell_type": "markdown",
   "metadata": {},
   "source": [
    "## Dicts"
   ]
  },
  {
   "cell_type": "code",
   "execution_count": 78,
   "metadata": {},
   "outputs": [],
   "source": [
    "# cria um dict (dictionarie - dicionario)\n",
    "aluno = {\n",
    "    \"nome\": \"dalton\",\n",
    "     \"idade\": \"calculo\",\n",
    "     \"nota\": \"9.5\",\n",
    "     \"faltas\": \"3\"\n",
    "}"
   ]
  },
  {
   "cell_type": "code",
   "execution_count": 81,
   "metadata": {},
   "outputs": [],
   "source": [
    "# retorna o valor da key \"nome\"\n",
    "aluno.get(\"nome\")"
   ]
  },
  {
   "cell_type": "code",
   "execution_count": 83,
   "metadata": {},
   "outputs": [
    {
     "data": {
      "text/plain": [
       "'dalton'"
      ]
     },
     "execution_count": 83,
     "metadata": {},
     "output_type": "execute_result"
    }
   ],
   "source": [
    "aluno[\"nome\"]"
   ]
  },
  {
   "cell_type": "code",
   "execution_count": 85,
   "metadata": {},
   "outputs": [
    {
     "name": "stdout",
     "output_type": "stream",
     "text": [
      "None\n"
     ]
    }
   ],
   "source": [
    "# retorna o valor da key \"sobrenome\" se existir se não retorna None \n",
    "aluno_sobrenome = aluno.get(\"sobrenome\")\n",
    "print(aluno_sobrenome)"
   ]
  },
  {
   "cell_type": "code",
   "execution_count": 86,
   "metadata": {},
   "outputs": [
    {
     "ename": "KeyError",
     "evalue": "'sobrenome'",
     "output_type": "error",
     "traceback": [
      "\u001b[0;31m---------------------------------------------------------------------------\u001b[0m",
      "\u001b[0;31mKeyError\u001b[0m                                  Traceback (most recent call last)",
      "\u001b[0;32m<ipython-input-86-21563405be23>\u001b[0m in \u001b[0;36m<module>\u001b[0;34m()\u001b[0m\n\u001b[0;32m----> 1\u001b[0;31m \u001b[0maluno_sobrenome\u001b[0m \u001b[0;34m=\u001b[0m \u001b[0maluno\u001b[0m\u001b[0;34m[\u001b[0m\u001b[0;34m\"sobrenome\"\u001b[0m\u001b[0;34m]\u001b[0m\u001b[0;34m\u001b[0m\u001b[0m\n\u001b[0m\u001b[1;32m      2\u001b[0m \u001b[0mprint\u001b[0m\u001b[0;34m(\u001b[0m\u001b[0maluno_sobrenome\u001b[0m\u001b[0;34m)\u001b[0m\u001b[0;34m\u001b[0m\u001b[0m\n",
      "\u001b[0;31mKeyError\u001b[0m: 'sobrenome'"
     ]
    }
   ],
   "source": [
    "# retorna o valor da key \"sobrenome\" se existir se não retorna um Erro \n",
    "aluno_sobrenome = aluno[\"sobrenome\"]\n",
    "print(aluno_sobrenome)"
   ]
  },
  {
   "cell_type": "code",
   "execution_count": 18,
   "metadata": {},
   "outputs": [],
   "source": []
  }
 ],
 "metadata": {
  "kernelspec": {
   "display_name": "Python 3",
   "language": "python",
   "name": "python3"
  },
  "language_info": {
   "codemirror_mode": {
    "name": "ipython",
    "version": 3
   },
   "file_extension": ".py",
   "mimetype": "text/x-python",
   "name": "python",
   "nbconvert_exporter": "python",
   "pygments_lexer": "ipython3",
   "version": "3.6.6"
  }
 },
 "nbformat": 4,
 "nbformat_minor": 2
}
