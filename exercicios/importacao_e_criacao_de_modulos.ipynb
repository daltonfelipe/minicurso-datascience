{
 "cells": [
  {
   "cell_type": "markdown",
   "metadata": {},
   "source": [
    "# Importação e criação de módulos\n",
    "## Permite a importação de scripts reusáveis através do comando `import`\n",
    "### Importação"
   ]
  },
  {
   "cell_type": "code",
   "execution_count": 2,
   "metadata": {},
   "outputs": [
    {
     "name": "stdout",
     "output_type": "stream",
     "text": [
      "0.8939966636005579\n"
     ]
    }
   ],
   "source": [
    "# calcula o seno de 90\n",
    "import math\n",
    "seno_de_90 = math.sin(90)\n",
    "print(seno_de_90)"
   ]
  },
  {
   "cell_type": "code",
   "execution_count": 3,
   "metadata": {},
   "outputs": [
    {
     "name": "stdout",
     "output_type": "stream",
     "text": [
      "Tempo de execucao: 0.10561394691467285 s\n"
     ]
    }
   ],
   "source": [
    "# cacula o tempo de execucao do codigo\n",
    "import time\n",
    "contador = 0\n",
    "inicio = time.time()\n",
    "for i in range(1000000):\n",
    "    contador += 1\n",
    "fim = time.time()\n",
    "print(\"Tempo de execucao:\", fim-inicio,'s')"
   ]
  },
  {
   "cell_type": "code",
   "execution_count": 4,
   "metadata": {},
   "outputs": [],
   "source": [
    "import random\n",
    "\n",
    "def dados(num_dados=1, jogadas=2, faces=6):\n",
    "    \n",
    "    resultados = dict()\n",
    "    \n",
    "    for i in range(jogadas):\n",
    "        resultados[\"jogada{}\".format(i+1)] = dict()\n",
    "        for j in range(num_dados):\n",
    "            resultados[\"jogada{}\".format(i+1)][\"dado{}\".format(j+1)] = random.randint(1, faces)\n",
    "    \n",
    "    return resultados"
   ]
  },
  {
   "cell_type": "code",
   "execution_count": 5,
   "metadata": {},
   "outputs": [
    {
     "data": {
      "text/plain": [
       "{'jogada1': {'dado1': 6, 'dado2': 3, 'dado3': 4, 'dado4': 6},\n",
       " 'jogada2': {'dado1': 5, 'dado2': 6, 'dado3': 1, 'dado4': 6},\n",
       " 'jogada3': {'dado1': 6, 'dado2': 3, 'dado3': 4, 'dado4': 6},\n",
       " 'jogada4': {'dado1': 3, 'dado2': 2, 'dado3': 2, 'dado4': 2}}"
      ]
     },
     "execution_count": 5,
     "metadata": {},
     "output_type": "execute_result"
    }
   ],
   "source": [
    "dados(4, 4, 6)"
   ]
  },
  {
   "cell_type": "code",
   "execution_count": null,
   "metadata": {},
   "outputs": [],
   "source": []
  },
  {
   "cell_type": "markdown",
   "metadata": {},
   "source": [
    "## Criação de módulos em Python\n",
    "\n",
    "1. criar novo arquivo\n",
    "2. nomea-lo com a extensão `.py` e.g. `meu_modulo.py`\n",
    "3. importar em outro programa e.g. `import meu_modulo`"
   ]
  },
  {
   "cell_type": "code",
   "execution_count": null,
   "metadata": {},
   "outputs": [],
   "source": []
  }
 ],
 "metadata": {
  "kernelspec": {
   "display_name": "Python 3",
   "language": "python",
   "name": "python3"
  },
  "language_info": {
   "codemirror_mode": {
    "name": "ipython",
    "version": 3
   },
   "file_extension": ".py",
   "mimetype": "text/x-python",
   "name": "python",
   "nbconvert_exporter": "python",
   "pygments_lexer": "ipython3",
   "version": "3.6.6"
  }
 },
 "nbformat": 4,
 "nbformat_minor": 2
}
