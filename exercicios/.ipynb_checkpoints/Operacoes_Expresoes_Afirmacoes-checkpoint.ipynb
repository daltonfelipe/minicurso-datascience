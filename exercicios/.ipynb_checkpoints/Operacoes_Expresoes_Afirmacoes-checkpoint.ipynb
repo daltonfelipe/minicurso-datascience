{
 "cells": [
  {
   "cell_type": "markdown",
   "metadata": {},
   "source": [
    "## Operadores\n",
    "### Operadores Numéricos\n",
    "\n",
    "* Adição: + \n",
    "* Subtração: -\n",
    "* Multiplicação: *****\n",
    "* Divisão: /\n",
    "* Potência: ******\n",
    "* Modulo: %"
   ]
  },
  {
   "cell_type": "code",
   "execution_count": 10,
   "metadata": {},
   "outputs": [],
   "source": [
    "#Somar 5 e 2"
   ]
  },
  {
   "cell_type": "code",
   "execution_count": 11,
   "metadata": {},
   "outputs": [],
   "source": [
    "#Subtrair 7 de 10"
   ]
  },
  {
   "cell_type": "code",
   "execution_count": 4,
   "metadata": {},
   "outputs": [],
   "source": [
    "#multiplicar 56 com 45"
   ]
  },
  {
   "cell_type": "code",
   "execution_count": 5,
   "metadata": {},
   "outputs": [],
   "source": [
    "#Dividir 81 por 9"
   ]
  },
  {
   "cell_type": "code",
   "execution_count": null,
   "metadata": {},
   "outputs": [],
   "source": [
    "#Elevar 2 ao quadrado"
   ]
  },
  {
   "cell_type": "code",
   "execution_count": 12,
   "metadata": {},
   "outputs": [],
   "source": [
    "#Modulo da divisao de 4 por 2"
   ]
  },
  {
   "cell_type": "markdown",
   "metadata": {},
   "source": [
    "## Operadores de Comparações \n",
    "\n",
    "* Maior que: >\n",
    "* Menor que: <\n",
    "* Igual: ==\n",
    "* Maior ou igual: >=\n",
    "* Menor ou igual: <=\n",
    "* Diferente: != ou <> "
   ]
  },
  {
   "cell_type": "markdown",
   "metadata": {},
   "source": [
    "## Operadores Booleanos\n",
    "* and \n",
    "* or \n",
    "* not"
   ]
  },
  {
   "cell_type": "markdown",
   "metadata": {},
   "source": [
    "# Operador para Atribuição\n",
    "* Atribuição: ="
   ]
  },
  {
   "cell_type": "markdown",
   "metadata": {},
   "source": [
    "## Expressões\n",
    "* Combinar valores que podem ser tanto strings ou numeros com os operadores. "
   ]
  },
  {
   "cell_type": "code",
   "execution_count": 2,
   "metadata": {},
   "outputs": [
    {
     "name": "stdout",
     "output_type": "stream",
     "text": [
      "2min\n",
      "-84.28571428571429\n"
     ]
    }
   ],
   "source": [
    "#expressoes com strings\n",
    "nome = 'min'\n",
    "nome2 = '2'\n",
    "print(nome2 + nome)\n",
    "\n",
    "#expressoes com numeros\n",
    "print(5+7-96-2**4/56)"
   ]
  },
  {
   "cell_type": "code",
   "execution_count": null,
   "metadata": {},
   "outputs": [],
   "source": []
  }
 ],
 "metadata": {
  "kernelspec": {
   "display_name": "Python 3",
   "language": "python",
   "name": "python3"
  },
  "language_info": {
   "codemirror_mode": {
    "name": "ipython",
    "version": 3
   },
   "file_extension": ".py",
   "mimetype": "text/x-python",
   "name": "python",
   "nbconvert_exporter": "python",
   "pygments_lexer": "ipython3",
   "version": "3.6.6"
  }
 },
 "nbformat": 4,
 "nbformat_minor": 2
}
